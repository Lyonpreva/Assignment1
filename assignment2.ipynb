{
 "cells": [
  {
   "cell_type": "code",
   "execution_count": 1,
   "id": "8b9042f1",
   "metadata": {},
   "outputs": [],
   "source": [
    "def Biker():\n",
    "    OneWeek=6\n",
    "    SixDays=100\n",
    "    threeMonths=72\n",
    "    fuelForThreeMonth= SixDays * threeMonths / OneWeek\n",
    "    print(\"Fuel for three months(72days) =\", fuelForThreeMonth)"
   ]
  },
  {
   "cell_type": "code",
   "execution_count": 2,
   "id": "130b7ff8",
   "metadata": {},
   "outputs": [
    {
     "name": "stdout",
     "output_type": "stream",
     "text": [
      "Fuel for three months(72days) = 1200.0\n"
     ]
    }
   ],
   "source": [
    "Biker()"
   ]
  },
  {
   "cell_type": "code",
   "execution_count": null,
   "id": "50167ab1",
   "metadata": {},
   "outputs": [],
   "source": []
  },
  {
   "cell_type": "raw",
   "id": "4bbd0570",
   "metadata": {},
   "source": []
  }
 ],
 "metadata": {
  "kernelspec": {
   "display_name": "Python 3 (ipykernel)",
   "language": "python",
   "name": "python3"
  },
  "language_info": {
   "codemirror_mode": {
    "name": "ipython",
    "version": 3
   },
   "file_extension": ".py",
   "mimetype": "text/x-python",
   "name": "python",
   "nbconvert_exporter": "python",
   "pygments_lexer": "ipython3",
   "version": "3.11.1"
  }
 },
 "nbformat": 4,
 "nbformat_minor": 5
}
